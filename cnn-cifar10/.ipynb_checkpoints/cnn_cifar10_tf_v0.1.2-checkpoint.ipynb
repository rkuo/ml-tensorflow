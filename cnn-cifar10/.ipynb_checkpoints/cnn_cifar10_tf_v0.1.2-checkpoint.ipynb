{
  "nbformat": 4,
  "nbformat_minor": 0,
  "metadata": {
    "colab": {
      "name": "cnn-cifar10-tf.ipynb",
      "version": "0.3.2",
      "views": {},
      "default_view": {},
      "provenance": [],
      "collapsed_sections": []
    },
    "kernelspec": {
      "name": "python3",
      "display_name": "Python 3"
    }
  },
  "cells": [
    {
      "metadata": {
        "id": "gkcrfQIC3UIg",
        "colab_type": "text"
      },
      "cell_type": "markdown",
      "source": [
        "# Classification Using Tensorflow  \n",
        "Richard Kuo, 20180707\n",
        "ver. 0.1.2 RMSPropOptimizer  \n",
        "notebook - https://drive.google.com/drive/folders/1yIUd7g0OyY676zd1X_VGNqKoPPZIhdhQ  \n",
        "pdf dir - /Users/rkuo/code/tensorflow/cnn-cifar10  \n",
        "\n",
        "Code borrowed from:\n",
        "- [Cifar-10 Classification using Keras Tutorial](https://blog.plon.io/tutorials/cifar-10-classification-using-keras-tutorial/)\n",
        "- [Object Recognition with Convolutional Neural Networks in the Keras Deep Learning Library](https://machinelearningmastery.com/object-recognition-convolutional-neural-networks-keras-deep-learning-library/)\n",
        "- [Convolutional Neural Networks (CNN) for CIFAR-10 Dataset](http://parneetk.github.io/blog/cnn-cifar10/)\n",
        "- [Deep-math-machine-learning.ai](https://github.com/Madhu009/Deep-math-machine-learning.ai/blob/master/Neural_Networks/Convolutional_NN_Tensorflow.ipynb)\n",
        "- [Keras code example](https://github.com/keras-team/keras/blob/master/examples/cifar10_cnn.py)\n"
      ]
    },
    {
      "metadata": {
        "id": "lvOMuF7k4zKx",
        "colab_type": "text"
      },
      "cell_type": "markdown",
      "source": [
        "\n",
        "## Import libraries"
      ]
    },
    {
      "metadata": {
        "id": "HeBvjBiY7566",
        "colab_type": "code",
        "colab": {
          "autoexec": {
            "startup": false,
            "wait_interval": 0
          }
        }
      },
      "cell_type": "code",
      "source": [
        "import time\n",
        "import sys\n",
        "import os\n",
        "\n",
        "from __future__ import print_function\n",
        "\n",
        "# sys.path.insert(0, 'drive/cifar10')\n",
        "# os.chdir(\"drive/cifar10\")"
      ],
      "execution_count": 0,
      "outputs": []
    },
    {
      "metadata": {
        "id": "I2AGwgY18Ask",
        "colab_type": "code",
        "colab": {
          "autoexec": {
            "startup": false,
            "wait_interval": 0
          }
        }
      },
      "cell_type": "code",
      "source": [
        "import keras\n",
        "from keras.models import Sequential\n",
        "from keras.layers import Dense, Dropout, Activation, Flatten\n",
        "from keras.layers import Conv2D, MaxPooling2D\n",
        "from keras.layers.normalization import BatchNormalization\n",
        "\n",
        "from keras.optimizers import SGD\n",
        "from keras.utils import print_summary, to_categorical, np_utils\n",
        "\n",
        "from keras.constraints import maxnorm\n",
        "\n",
        "# Set backend, \n",
        "# For the difference of \"tf\" and \"th\"\n",
        "# see https://stackoverflow.com/questions/39547279/loading-weights-in-th-format-when-keras-is-set-to-tf-format\n",
        "from keras import backend as K\n",
        "if K.backend()=='tensorflow':\n",
        "    K.set_image_dim_ordering(\"th\")\n",
        "    \n",
        "# Import Tensorflow with multiprocessing\n",
        "import tensorflow as tf\n",
        "import multiprocessing as mp "
      ],
      "execution_count": 0,
      "outputs": []
    },
    {
      "metadata": {
        "id": "6lKCko6rszW1",
        "colab_type": "text"
      },
      "cell_type": "markdown",
      "source": [
        "## Load and display dataset\n",
        "\n",
        "After data loading, to verify and better understand the dataset; sample some them. For more complicate dataset, plot, explore the contents.\n",
        "- shapes\n",
        "- sizes\n",
        "- sample values"
      ]
    },
    {
      "metadata": {
        "id": "rUP2FdSotoZ3",
        "colab_type": "code",
        "colab": {
          "autoexec": {
            "startup": false,
            "wait_interval": 0
          },
          "base_uri": "https://localhost:8080/",
          "height": 50
        },
        "outputId": "205867cb-7438-4fae-f8b3-c1182366654e",
        "executionInfo": {
          "status": "ok",
          "timestamp": 1530966757071,
          "user_tz": 420,
          "elapsed": 18909,
          "user": {
            "displayName": "Richard Kuo",
            "photoUrl": "//lh5.googleusercontent.com/-mCYqOH5oFtk/AAAAAAAAAAI/AAAAAAAAAy0/oPRMXjJYBdY/s50-c-k-no/photo.jpg",
            "userId": "100516856770490478928"
          }
        }
      },
      "cell_type": "code",
      "source": [
        "# Loading the CIFAR-10 datasets\n",
        "from keras.datasets import cifar10\n",
        "(X_train, Y_train), (X_test, Y_test) = cifar10.load_data()\n"
      ],
      "execution_count": 6,
      "outputs": [
        {
          "output_type": "stream",
          "text": [
            "Downloading data from https://www.cs.toronto.edu/~kriz/cifar-10-python.tar.gz\n",
            "170500096/170498071 [==============================] - 16s 0us/step\n"
          ],
          "name": "stdout"
        }
      ]
    },
    {
      "metadata": {
        "id": "GG_M6Sy7LCNC",
        "colab_type": "code",
        "colab": {
          "autoexec": {
            "startup": false,
            "wait_interval": 0
          },
          "base_uri": "https://localhost:8080/",
          "height": 789
        },
        "outputId": "5ba0949c-540e-454c-cb33-57ecb56df0ed",
        "executionInfo": {
          "status": "ok",
          "timestamp": 1530966758220,
          "user_tz": 420,
          "elapsed": 1111,
          "user": {
            "displayName": "Richard Kuo",
            "photoUrl": "//lh5.googleusercontent.com/-mCYqOH5oFtk/AAAAAAAAAAI/AAAAAAAAAy0/oPRMXjJYBdY/s50-c-k-no/photo.jpg",
            "userId": "100516856770490478928"
          }
        }
      },
      "cell_type": "code",
      "source": [
        "# Plot\n",
        "import matplotlib.pyplot as plt\n",
        "% matplotlib inline\n",
        "\n",
        "from scipy.misc import toimage\n",
        "\n",
        "import numpy as np\n",
        "np.random.seed(2018) \n",
        "\n",
        "X_train  # get tensor type\n",
        "Y_train\n",
        "print('X_train shape:', X_train.shape)\n",
        "print('Y_train shape:', Y_train.shape)\n",
        "print(X_train.shape[0], ' train samples')\n",
        "print(X_test.shape[0],  ' test samples')\n",
        "\n",
        "print(\"Value of the first element of X_train:\")\n",
        "print(X_train[0])\n",
        "print(\"Value of the first element of Y_train:\")\n",
        "print(Y_train[0])\n",
        "\n",
        "# create a grid of 3x3 images\n",
        "print(\"X can be converted back to original images via utility function:\")\n",
        "for i in range(0, 9):\n",
        "\tplt.subplot(330 + 1 + i)\n",
        "\tplt.imshow(toimage(X_train[i]))\n",
        "# show the plot\n",
        "plt.show()"
      ],
      "execution_count": 7,
      "outputs": [
        {
          "output_type": "stream",
          "text": [
            "X_train shape: (50000, 3, 32, 32)\n",
            "Y_train shape: (50000, 1)\n",
            "50000  train samples\n",
            "10000  test samples\n",
            "Value of the first element of X_train:\n",
            "[[[ 59  43  50 ... 158 152 148]\n",
            "  [ 16   0  18 ... 123 119 122]\n",
            "  [ 25  16  49 ... 118 120 109]\n",
            "  ...\n",
            "  [208 201 198 ... 160  56  53]\n",
            "  [180 173 186 ... 184  97  83]\n",
            "  [177 168 179 ... 216 151 123]]\n",
            "\n",
            " [[ 62  46  48 ... 132 125 124]\n",
            "  [ 20   0   8 ...  88  83  87]\n",
            "  [ 24   7  27 ...  84  84  73]\n",
            "  ...\n",
            "  [170 153 161 ... 133  31  34]\n",
            "  [139 123 144 ... 148  62  53]\n",
            "  [144 129 142 ... 184 118  92]]\n",
            "\n",
            " [[ 63  45  43 ... 108 102 103]\n",
            "  [ 20   0   0 ...  55  50  57]\n",
            "  [ 21   0   8 ...  50  50  42]\n",
            "  ...\n",
            "  [ 96  34  26 ...  70   7  20]\n",
            "  [ 96  42  30 ...  94  34  34]\n",
            "  [116  94  87 ... 140  84  72]]]\n",
            "Value of the first element of Y_train:\n",
            "[6]\n",
            "X can be converted back to original images via utility function:\n"
          ],
          "name": "stdout"
        },
        {
          "output_type": "display_data",
          "data": {
            "image/png": "[encoded data removed]",
            "text/plain": [
              "<matplotlib.figure.Figure at 0x7fcb38ecc2b0>"
            ]
          },
          "metadata": {
            "tags": []
          }
        }
      ]
    },
    {
      "metadata": {
        "id": "VvWYFeTn_KaE",
        "colab_type": "text"
      },
      "cell_type": "markdown",
      "source": [
        "There are three different sets/formats: python, Matlab and binary. Binary format has broke the dataset into smaller size so we can  do batch process. \n",
        "\n",
        "For python version:\n",
        "\n",
        "**data** -- a 10000x3072 numpy array of uint8s. Each row of the array stores a 32x32 (=1024) colour image. The first 1024 entries contain the red channel values, the next 1024 the green, and the final 1024 the blue. The image is stored in row-major order, so that the first 32 entries of the array are the red channel values of the first row of the image, [ 59  43  50 ... 158 152 148]. \n",
        "\n",
        "The color of the first pixel of the image is R = 59, G= 62, B = 63.\n",
        "\n",
        "Each image is represented by 3 X 32 X 32 (colors, width and height) tensor. The first diamension is for Red, the next sheet is for Blue, then the next sheet is for Green; like 3 sheets of paper, which are size 32 by 32 grids. Each grid records the values of the color, RBG, of image values (0–255). There are 50000 images for X_train.\n",
        "\n",
        "Tensor is data structure, for example, \n",
        "```\n",
        "1D  [1,2,3,4]        # one row\n",
        "2D  [                # one sheet with two rows\n",
        "            [1,2,3,4],\n",
        "            [5,6,7,8]] \n",
        "3D [                 # three sheets, each sheet represents some type of measurement\n",
        "          [                # for example, people's height, or intensity of color red \n",
        "            [1,2,3,4],\n",
        "            [5,6,7,8]], \n",
        "          [                # for example, people's weight, or intensity of color blue, we only have two colors.\n",
        "            [7,2,3,4],\n",
        "            [6,6,7,8]]] \n",
        "```\n",
        "\n",
        "**labels** -- a list of 10000 numbers in the range 0-9. The number at index i indicates the label of the ith image in the array data.\n",
        "For example, label_names[0] == \"airplane\", label_names[1] == \"automobile\", etc.\n",
        "\n",
        "label_names = ['airplane','automobile','bird','cat','deer', 'dog','frog','horse','ship','truck']\n",
        "\n",
        "Y_train and Y_test are a vector (1D tensor). Y_train[0] = [6] means the label of the first element is a frog. \n",
        "\n",
        "X_train and X_test are 3D tensor, which can be converted back to image. \n",
        "![cifar10 classes](https://www.cs.toronto.edu/~kriz/cifar-10-sample/cat6.png)\n",
        "\n",
        "See [toronto data repo](https://www.cs.toronto.edu/~kriz/cifar.html) for more details. "
      ]
    },
    {
      "metadata": {
        "id": "xGgrS655doro",
        "colab_type": "text"
      },
      "cell_type": "markdown",
      "source": [
        "## Pre-process Data\n",
        "The data may need to be pre-processed to fit ML library we want to use.\n",
        "\n",
        "### Normalize\n",
        "RBG value is range from 0-255. It would be easier to work from 0-1.\n"
      ]
    },
    {
      "metadata": {
        "id": "w7R6oROyqAbd",
        "colab_type": "code",
        "colab": {
          "autoexec": {
            "startup": false,
            "wait_interval": 0
          },
          "base_uri": "https://localhost:8080/",
          "height": 706
        },
        "outputId": "68ca87a3-04fc-429d-c728-56b06b73509d",
        "executionInfo": {
          "status": "ok",
          "timestamp": 1530966759435,
          "user_tz": 420,
          "elapsed": 1170,
          "user": {
            "displayName": "Richard Kuo",
            "photoUrl": "//lh5.googleusercontent.com/-mCYqOH5oFtk/AAAAAAAAAAI/AAAAAAAAAy0/oPRMXjJYBdY/s50-c-k-no/photo.jpg",
            "userId": "100516856770490478928"
          }
        }
      },
      "cell_type": "code",
      "source": [
        "# print(X_train[0])\n",
        "X_train = X_train.astype('float32')\n",
        "X_test  = X_test.astype('float32')\n",
        "X_train /= 255.0\n",
        "X_test  /= 255.0\n",
        "\n",
        "X_train[0]"
      ],
      "execution_count": 8,
      "outputs": [
        {
          "output_type": "execute_result",
          "data": {
            "text/plain": [
              "array([[[0.23137255, 0.16862746, 0.19607843, ..., 0.61960787,\n",
              "         0.59607846, 0.5803922 ],\n",
              "        [0.0627451 , 0.        , 0.07058824, ..., 0.48235294,\n",
              "         0.46666667, 0.47843137],\n",
              "        [0.09803922, 0.0627451 , 0.19215687, ..., 0.4627451 ,\n",
              "         0.47058824, 0.42745098],\n",
              "        ...,\n",
              "        [0.8156863 , 0.7882353 , 0.7764706 , ..., 0.627451  ,\n",
              "         0.21960784, 0.20784314],\n",
              "        [0.7058824 , 0.6784314 , 0.7294118 , ..., 0.72156864,\n",
              "         0.38039216, 0.3254902 ],\n",
              "        [0.69411767, 0.65882355, 0.7019608 , ..., 0.84705883,\n",
              "         0.5921569 , 0.48235294]],\n",
              "\n",
              "       [[0.24313726, 0.18039216, 0.1882353 , ..., 0.5176471 ,\n",
              "         0.49019608, 0.4862745 ],\n",
              "        [0.07843138, 0.        , 0.03137255, ..., 0.34509805,\n",
              "         0.3254902 , 0.34117648],\n",
              "        [0.09411765, 0.02745098, 0.10588235, ..., 0.32941177,\n",
              "         0.32941177, 0.28627452],\n",
              "        ...,\n",
              "        [0.6666667 , 0.6       , 0.6313726 , ..., 0.52156866,\n",
              "         0.12156863, 0.13333334],\n",
              "        [0.54509807, 0.48235294, 0.5647059 , ..., 0.5803922 ,\n",
              "         0.24313726, 0.20784314],\n",
              "        [0.5647059 , 0.5058824 , 0.5568628 , ..., 0.72156864,\n",
              "         0.4627451 , 0.36078432]],\n",
              "\n",
              "       [[0.24705882, 0.1764706 , 0.16862746, ..., 0.42352942,\n",
              "         0.4       , 0.40392157],\n",
              "        [0.07843138, 0.        , 0.        , ..., 0.21568628,\n",
              "         0.19607843, 0.22352941],\n",
              "        [0.08235294, 0.        , 0.03137255, ..., 0.19607843,\n",
              "         0.19607843, 0.16470589],\n",
              "        ...,\n",
              "        [0.3764706 , 0.13333334, 0.10196079, ..., 0.27450982,\n",
              "         0.02745098, 0.07843138],\n",
              "        [0.3764706 , 0.16470589, 0.11764706, ..., 0.36862746,\n",
              "         0.13333334, 0.13333334],\n",
              "        [0.45490196, 0.36862746, 0.34117648, ..., 0.54901963,\n",
              "         0.32941177, 0.28235295]]], dtype=float32)"
            ]
          },
          "metadata": {
            "tags": []
          },
          "execution_count": 8
        }
      ]
    },
    {
      "metadata": {
        "id": "yVAkdNBlpgPJ",
        "colab_type": "text"
      },
      "cell_type": "markdown",
      "source": [
        "The value of the first pixel R-channel is 59/255 = 0.2313, which is the current X_train value divided by 255. If we run this cell again, the value will be 0.00090734, which is = 0.2313/255.\n",
        "\n",
        "The, we need to see what is train label Y_train looks like. \n"
      ]
    },
    {
      "metadata": {
        "id": "WImu3f6lf5JE",
        "colab_type": "code",
        "colab": {
          "autoexec": {
            "startup": false,
            "wait_interval": 0
          },
          "base_uri": "https://localhost:8080/",
          "height": 134
        },
        "outputId": "be1734e4-2fd5-4ae9-c23c-cfdf2bca3352",
        "executionInfo": {
          "status": "ok",
          "timestamp": 1530966759865,
          "user_tz": 420,
          "elapsed": 391,
          "user": {
            "displayName": "Richard Kuo",
            "photoUrl": "//lh5.googleusercontent.com/-mCYqOH5oFtk/AAAAAAAAAAI/AAAAAAAAAy0/oPRMXjJYBdY/s50-c-k-no/photo.jpg",
            "userId": "100516856770490478928"
          }
        }
      },
      "cell_type": "code",
      "source": [
        "Y_train"
      ],
      "execution_count": 9,
      "outputs": [
        {
          "output_type": "execute_result",
          "data": {
            "text/plain": [
              "array([[6],\n",
              "       [9],\n",
              "       [9],\n",
              "       ...,\n",
              "       [9],\n",
              "       [1],\n",
              "       [1]], dtype=uint8)"
            ]
          },
          "metadata": {
            "tags": []
          },
          "execution_count": 9
        }
      ]
    },
    {
      "metadata": {
        "id": "VvE1pL2Ugnhf",
        "colab_type": "text"
      },
      "cell_type": "markdown",
      "source": [
        "It is a 50000 integer array.  "
      ]
    },
    {
      "metadata": {
        "id": "rLrl0yPLhH2o",
        "colab_type": "code",
        "colab": {
          "autoexec": {
            "startup": false,
            "wait_interval": 0
          },
          "base_uri": "https://localhost:8080/",
          "height": 34
        },
        "outputId": "998b0332-a22b-434c-a106-f2052f5c209e",
        "executionInfo": {
          "status": "ok",
          "timestamp": 1530966760478,
          "user_tz": 420,
          "elapsed": 427,
          "user": {
            "displayName": "Richard Kuo",
            "photoUrl": "//lh5.googleusercontent.com/-mCYqOH5oFtk/AAAAAAAAAAI/AAAAAAAAAy0/oPRMXjJYBdY/s50-c-k-no/photo.jpg",
            "userId": "100516856770490478928"
          }
        }
      },
      "cell_type": "code",
      "source": [
        "print(Y_train[0], Y_train[49999])"
      ],
      "execution_count": 10,
      "outputs": [
        {
          "output_type": "stream",
          "text": [
            "[6] [1]\n"
          ],
          "name": "stdout"
        }
      ]
    },
    {
      "metadata": {
        "id": "z-pMANJphwA3",
        "colab_type": "text"
      },
      "cell_type": "markdown",
      "source": [
        "We need to convert Y_train to one_hot array, from 50000 x 1 to 50000 x 10, for example, the first row from [6] to [0,0,0,0,0,1,0,0,0,0]. We can use a keras' utility `keras.utils.np_utils.to_categorical`, see discussion about to_categorical."
      ]
    },
    {
      "metadata": {
        "id": "zKD2ZKBWr12Q",
        "colab_type": "code",
        "colab": {
          "autoexec": {
            "startup": false,
            "wait_interval": 0
          }
        }
      },
      "cell_type": "code",
      "source": [
        "# create one hot vector\n",
        "\n",
        "Y_train = np_utils.to_categorical(Y_train)\n",
        "Y_test = np_utils.to_categorical(Y_test)"
      ],
      "execution_count": 0,
      "outputs": []
    },
    {
      "metadata": {
        "id": "2SDRFzSfsZG2",
        "colab_type": "code",
        "colab": {
          "autoexec": {
            "startup": false,
            "wait_interval": 0
          },
          "base_uri": "https://localhost:8080/",
          "height": 134
        },
        "outputId": "069cb06e-4e32-4db3-9e1c-f1c8142662ed",
        "executionInfo": {
          "status": "ok",
          "timestamp": 1530966761858,
          "user_tz": 420,
          "elapsed": 389,
          "user": {
            "displayName": "Richard Kuo",
            "photoUrl": "//lh5.googleusercontent.com/-mCYqOH5oFtk/AAAAAAAAAAI/AAAAAAAAAy0/oPRMXjJYBdY/s50-c-k-no/photo.jpg",
            "userId": "100516856770490478928"
          }
        }
      },
      "cell_type": "code",
      "source": [
        "Y_train"
      ],
      "execution_count": 12,
      "outputs": [
        {
          "output_type": "execute_result",
          "data": {
            "text/plain": [
              "array([[0., 0., 0., ..., 0., 0., 0.],\n",
              "       [0., 0., 0., ..., 0., 0., 1.],\n",
              "       [0., 0., 0., ..., 0., 0., 1.],\n",
              "       ...,\n",
              "       [0., 0., 0., ..., 0., 0., 1.],\n",
              "       [0., 1., 0., ..., 0., 0., 0.],\n",
              "       [0., 1., 0., ..., 0., 0., 0.]], dtype=float32)"
            ]
          },
          "metadata": {
            "tags": []
          },
          "execution_count": 12
        }
      ]
    },
    {
      "metadata": {
        "id": "5zqxhrcOs2-r",
        "colab_type": "code",
        "colab": {
          "autoexec": {
            "startup": false,
            "wait_interval": 0
          },
          "base_uri": "https://localhost:8080/",
          "height": 34
        },
        "outputId": "41cbfbcc-33ed-45aa-f1f1-4342bb5ed577",
        "executionInfo": {
          "status": "ok",
          "timestamp": 1530966762475,
          "user_tz": 420,
          "elapsed": 415,
          "user": {
            "displayName": "Richard Kuo",
            "photoUrl": "//lh5.googleusercontent.com/-mCYqOH5oFtk/AAAAAAAAAAI/AAAAAAAAAy0/oPRMXjJYBdY/s50-c-k-no/photo.jpg",
            "userId": "100516856770490478928"
          }
        }
      },
      "cell_type": "code",
      "source": [
        "Y_train[0]"
      ],
      "execution_count": 13,
      "outputs": [
        {
          "output_type": "execute_result",
          "data": {
            "text/plain": [
              "array([0., 0., 0., 0., 0., 0., 1., 0., 0., 0.], dtype=float32)"
            ]
          },
          "metadata": {
            "tags": []
          },
          "execution_count": 13
        }
      ]
    },
    {
      "metadata": {
        "id": "jk4ech6K7hTS",
        "colab_type": "text"
      },
      "cell_type": "markdown",
      "source": [
        "## Tensorflow\n",
        "We will try to develop the solution with two different frameworks: Tensorflow and Keras, do Tensorflow first. The architecture looks like\n",
        "\n",
        "[input (X)] -> [convolution (C1)] -> [pooling (P1)] -> [convolution (C2)] -> [pooling (P2)] -> [convolution (C3)] -> [pooling (P3)] -> [FC] -> [softmax] -> [output (Y predict)]\n",
        "\n",
        "![convnet architecture](https://cdn-images-1.medium.com/max/2000/1*_CjMsDebNl_YL5p2mwKMvg.jpeg)\n",
        "\n",
        "Figure from https://medium.com/deep-math-machine-learning-ai/chapter-8-1-code-for-convolutional-neural-networks-tensorflow-and-keras-theano-33bef285dd93"
      ]
    },
    {
      "metadata": {
        "id": "Hu_lBSMnD7PZ",
        "colab_type": "text"
      },
      "cell_type": "markdown",
      "source": [
        "### Model"
      ]
    },
    {
      "metadata": {
        "id": "oBzd4m4CEUop",
        "colab_type": "text"
      },
      "cell_type": "markdown",
      "source": [
        "#### placeholder\n",
        "Inserts a placeholder for a tensor that will be always fed, see [doc].(https://www.tensorflow.org/api_docs/python/tf/placeholder)\n",
        "\n",
        "```\n",
        "tf.placeholder(\n",
        "    dtype,     \n",
        "    shape=None,\n",
        "    name=None\n",
        ")\n",
        "```\n",
        "Args:\n",
        "- dtype: The type of elements in the tensor to be fed.\n",
        "- shape: The shape of the tensor to be fed (optional). If the shape is not specified, you can feed a tensor of any shape.\n",
        "- name: A name for the operation (optional).\n",
        "\n",
        "The difference is that with tf.Variable you have to provide an initial value when you declare it. With tf.placeholder you don't have to provide an initial value and you can specify it at run time with the feed_dict argument inside Session.run"
      ]
    },
    {
      "metadata": {
        "id": "AzufQ09oA1Wn",
        "colab_type": "code",
        "colab": {
          "autoexec": {
            "startup": false,
            "wait_interval": 0
          }
        }
      },
      "cell_type": "code",
      "source": [
        "import tensorflow as tf\n",
        "\n",
        "X = tf.placeholder(\"float\", [None,32,32,3])\n",
        "Y = tf.placeholder(\"float\", [None,10])"
      ],
      "execution_count": 0,
      "outputs": []
    },
    {
      "metadata": {
        "id": "1s0Ns1uSmRss",
        "colab_type": "text"
      },
      "cell_type": "markdown",
      "source": [
        "#### Weight\n",
        "\n",
        "define a function to populate specific shape of tensor initially with random numbers.\n",
        "\n",
        "tf.random_normal returns a tensor of specific shape with random number, see [doc](https://www.tensorflow.org/api_docs/python/tf/random_normal)\n",
        "\n",
        "```    \n",
        "tf.random_normal(\n",
        "    shape,\n",
        "    mean=0.0,\n",
        "    stddev=1.0,\n",
        "    dtype=tf.float32,\n",
        "    seed=None,\n",
        "    name=None\n",
        ")\n",
        "```\n",
        "Args:\n",
        "- shape: A 1-D integer Tensor or Python array. The shape of the output tensor.\n",
        "- mean: A 0-D Tensor or Python value of type dtype. The mean of the normal distribution.\n",
        "- stddev: A 0-D Tensor or Python value of type dtype. The standard deviation of the normal distribution.\n",
        "- dtype: The type of the output.\n",
        "- seed: A Python integer. Used to create a random seed for the distribution. See tf.set_random_seed for behavior.\n",
        "- name: A name for the operation (optional)."
      ]
    },
    {
      "metadata": {
        "id": "u8jPbQj0bIGC",
        "colab_type": "text"
      },
      "cell_type": "markdown",
      "source": [
        "#### Layer\n",
        "tf's Layers (contrib) package \n",
        "- provide ops that take care of creating variables that are used internally in a consistent way,\n",
        "- provide the building blocks for many common machine learning algorithms."
      ]
    },
    {
      "metadata": {
        "id": "Tek0DxFwk1L9",
        "colab_type": "code",
        "colab": {
          "autoexec": {
            "startup": false,
            "wait_interval": 0
          }
        }
      },
      "cell_type": "code",
      "source": [
        "def init_weights(shape):\n",
        "    return tf.Variable(tf.random_normal(shape, stddev=0.01))\n",
        "\n",
        "W_C1 = init_weights([3,3,3,32])     # 3x3x3  conv, 32 outputs\n",
        "W_C2 = init_weights([3,3,32,64])    # 3x3x32 conv, 64 outputs\n",
        "W_C3 = init_weights([3, 3, 64, 128])# 3x3x64 conv, 128 outputs\n",
        "\n",
        "W_FC = init_weights([128 * 4 * 4, 625]) # FC 128 * 4 * 4 inputs, 625 outputs\n",
        "W_O  = init_weights([625, 10])          # FC 625 inputs, 10 outputs (labels)\n",
        "\n",
        "p_keep_conv = tf.placeholder(\"float\")   # for dropouts as percentage\n",
        "p_keep_hidden = tf.placeholder(\"float\")"
      ],
      "execution_count": 0,
      "outputs": []
    },
    {
      "metadata": {
        "id": "fftGGqFVsb7u",
        "colab_type": "text"
      },
      "cell_type": "markdown",
      "source": [
        "#### Convolution\n",
        "tf's Neural Network (nn) API supports (partially excerpt here):\n",
        "\n",
        "- Convolution ops sweep a 2-D filter over a batch of images, applying the filter to each window of each image of the appropriate size.\n",
        "- Activation Function ops provide various types of nonlinearities for use in neural networks.\n",
        "- Pooling ops sweep a rectangular window over the input tensor, computing a reduction operation for each window (average, max, or max with argmax).\n",
        "... for details see [nn](https://www.tensorflow.org/api_guides/python/nn)\n",
        "\n",
        "tf.nn.conv2d computes a 2-D convolution given 4-D input and filter tensors, see tf [conv2d](https://www.tensorflow.org/api_docs/python/tf/nn/conv2d) for details.\n",
        "\n",
        "```\n",
        "tf.nn.conv2d(\n",
        "    input,\n",
        "    filter,\n",
        "    strides,\n",
        "    padding,\n",
        "    use_cudnn_on_gpu=True,\n",
        "    data_format='NHWC',\n",
        "    dilations=[1, 1, 1, 1],\n",
        "    name=None\n",
        ")\n",
        "```"
      ]
    },
    {
      "metadata": {
        "id": "bMfV66mBsp6d",
        "colab_type": "text"
      },
      "cell_type": "markdown",
      "source": [
        "#### Activation\n",
        "\n",
        "ReLU is one of activation function supported in tf. \n",
        "tf.nn.relu takes a tensor (type options: float32, float64, int32, uint8, int16, int8, int64, bfloat16, uint16, half, uint32, uint64.) as input, rectifies it, and returns a tensor with the same type as input.\n",
        "\n",
        "```\n",
        "tf.nn.relu(\n",
        "    features,\n",
        "    name=None\n",
        ")\n",
        "```"
      ]
    },
    {
      "metadata": {
        "id": "lIlxr2QoszLC",
        "colab_type": "text"
      },
      "cell_type": "markdown",
      "source": [
        "#### Pooling\n",
        "\n",
        "tf supports several different pooling ops:\n",
        "\n",
        "- tf.nn.avg_pool\n",
        "- tf.nn.max_pool\n",
        "- tf.nn.max_pool_with_argmax\n",
        "- tf.nn.avg_pool3d\n",
        "- tf.nn.max_pool3d\n",
        "- tf.nn.fractional_avg_pool\n",
        "- tf.nn.fractional_max_pool\n",
        "- tf.nn.pool\n",
        "\n",
        "Max_pooling is a very popular pooling.\n",
        "\n",
        "```\n",
        "tf.nn.max_pool(\n",
        "    value,\n",
        "    ksize,\n",
        "    strides,\n",
        "    padding,\n",
        "    data_format='NHWC',\n",
        "    name=None\n",
        ")\n",
        "```\n",
        "Args:\n",
        "- value: A 4-D Tensor of the format specified by data_format.\n",
        "- ksize: A 1-D int Tensor of 4 elements. The size of the window for each dimension of the input tensor.\n",
        "- strides: A 1-D int Tensor of 4 elements. The stride of the sliding window for each dimension of the input tensor.\n",
        "- padding: A string, either 'VALID' or 'SAME'. The padding algorithm. See the comment here\n",
        "- data_format: A string. 'NHWC', 'NCHW' and 'NCHW_VECT_C' are supported.\n",
        "- name: Optional name for the operation.\n",
        "\n",
        "Returns:\n",
        "A Tensor of format specified by data_format. The max pooled output tensor."
      ]
    },
    {
      "metadata": {
        "id": "YYP0juYis5en",
        "colab_type": "text"
      },
      "cell_type": "markdown",
      "source": [
        "#### Dropout\n",
        "\n",
        "tf.nn.dropout computes dropout. The dropout is used to prevent overfitting. Some % of neurons will be randomly dropped out (don’t get computed).\n",
        "\n",
        "With probability keep_prob, outputs the input element scaled up by 1 / keep_prob, otherwise outputs 0. The scaling is so that the expected sum is unchanged, for details see [dropout](https://www.tensorflow.org/api_docs/python/tf/nn/dropout).\n",
        "\n",
        "```\n",
        "tf.nn.dropout(\n",
        "    x,\n",
        "    keep_prob, \n",
        "    noise_shape=None,\n",
        "    seed=None,\n",
        "    name=None\n",
        ")\n",
        "```\n"
      ]
    },
    {
      "metadata": {
        "id": "XuOjFJqlWtq0",
        "colab_type": "code",
        "colab": {
          "autoexec": {
            "startup": false,
            "wait_interval": 0
          }
        }
      },
      "cell_type": "code",
      "source": [
        "def model(X, W_C1, W_C2, W_C3, W_FC, W_O, p_keep_conv,p_keep_hidden):\n",
        "    \n",
        "    C1 = tf.nn.relu(tf.nn.conv2d(X, W_C1, strides=[1,1,1,1], padding = \"SAME\")) \n",
        "    P1 = tf.nn.max_pool(C1,ksize=[1,2,2,1], strides=[1,2,2,1], padding = \"SAME\" ) # 1st pooling layer shape =(?,14,14,32)\n",
        "    D1 = tf.nn.dropout(P1,p_keep_conv) # 1st dropout at conv\n",
        "    \n",
        "    C2 = tf.nn.relu(tf.nn.conv2d(D1,W_C2, strides=[1,1,1,1], padding = \"SAME\"))   # 2nd convoultion layer shape=(?, 14, 14, 62)\n",
        "    P2 = tf.nn.max_pool(C2,ksize=[1,2,2,1], strides=[1,2,2,1], padding = \"SAME\" ) # 2nd pooling layer shape =(?,7,7,64)    \n",
        "    D2 = tf.nn.dropout(P2,p_keep_conv) # 2nd dropout at conv\n",
        "    \n",
        "    \n",
        "    C3 = tf.nn.relu(tf.nn.conv2d(D2,W_C3, strides=[1,1,1,1], padding = \"SAME\"))   # 3rd convoultion layer shape=(?, 7, 7, 128) \n",
        "    P3 = tf.nn.max_pool(C3,ksize=[1,2,2,1], strides=[1,2,2,1], padding = \"SAME\" ) # 3rd pooling layer shape =(?,4,4,128)\n",
        "    \n",
        "    P3 = tf.reshape(P3, [-1, W_FC.get_shape().as_list()[0]])    # reshape to (?, 2048)\n",
        "    D3 = tf.nn.dropout(P3, p_keep_conv) # 3rd dropout at conv\n",
        "    \n",
        "    FC = tf.nn.relu(tf.matmul(D3,W_FC))\n",
        "    FC = tf.nn.dropout(FC, p_keep_hidden) #droput at fc\n",
        "    \n",
        "    output = tf.matmul(FC,W_O)\n",
        "    \n",
        "    return output"
      ],
      "execution_count": 0,
      "outputs": []
    },
    {
      "metadata": {
        "id": "aCP_9WscZBsO",
        "colab_type": "text"
      },
      "cell_type": "markdown",
      "source": [
        "#### Cost function, Optimizer and Predicted function.\n",
        "todo - read [Neural Network Optimization Algorithms](https://towardsdatascience.com/neural-network-optimization-algorithms-1a44c282f61d)"
      ]
    },
    {
      "metadata": {
        "id": "JRiZvL75a2a2",
        "colab_type": "code",
        "colab": {
          "autoexec": {
            "startup": false,
            "wait_interval": 0
          }
        }
      },
      "cell_type": "code",
      "source": [
        "Y_pred = model(X, W_C1, W_C2, W_C3, W_FC, W_O, p_keep_conv, p_keep_hidden)   # calling the above model\n",
        "cost = tf.reduce_mean(tf.nn.softmax_cross_entropy_with_logits_v2(logits = Y_pred ,labels = Y))\n",
        "\n",
        "# optimizer = tf.train.AdamOptimizer(0.001, 0.9).minimize(cost)\n",
        "optimizer = tf.train.RMSPropOptimizer(0.001, 0.9).minimize(cost)\n",
        "\n",
        "predict_op = tf.argmax(Y_pred, 1)\n"
      ],
      "execution_count": 0,
      "outputs": []
    },
    {
      "metadata": {
        "id": "z8Ce7_ismWKi",
        "colab_type": "text"
      },
      "cell_type": "markdown",
      "source": [
        "### Session\n",
        "To run TensorFlow model, we need to create a session and feed the real data."
      ]
    },
    {
      "metadata": {
        "id": "jPP-FaoDp-WJ",
        "colab_type": "code",
        "colab": {
          "autoexec": {
            "startup": false,
            "wait_interval": 0
          }
        }
      },
      "cell_type": "code",
      "source": [
        "# reshape input data per tf\n",
        "X_train = X_train.reshape(-1,32,32,3) \n",
        "X_test = X_test.reshape(-1,32,32,3)"
      ],
      "execution_count": 0,
      "outputs": []
    },
    {
      "metadata": {
        "id": "Abobb1wksUSe",
        "colab_type": "code",
        "colab": {
          "autoexec": {
            "startup": false,
            "wait_interval": 0
          },
          "base_uri": "https://localhost:8080/",
          "height": 286
        },
        "outputId": "b6b650fb-fac1-4777-95c5-85cedb3eb6b4",
        "executionInfo": {
          "status": "ok",
          "timestamp": 1530971830865,
          "user_tz": 420,
          "elapsed": 5064492,
          "user": {
            "displayName": "Richard Kuo",
            "photoUrl": "//lh5.googleusercontent.com/-mCYqOH5oFtk/AAAAAAAAAAI/AAAAAAAAAy0/oPRMXjJYBdY/s50-c-k-no/photo.jpg",
            "userId": "100516856770490478928"
          }
        }
      },
      "cell_type": "code",
      "source": [
        "epochs = 50\n",
        "import numpy as np\n",
        "with tf.Session() as sess:\n",
        "    # you need to initialize all variables\n",
        "    sess.run(tf.global_variables_initializer())\n",
        "    \n",
        "    for epoch in range(epochs):\n",
        "        \n",
        "        for start, end in zip(range(0, len(X_train), 128), range(128, len(X_train)+1, 128)): \n",
        "            sess.run(optimizer,feed_dict={X : X_train[start:end] , Y : Y_train[start:end],\n",
        "                                          p_keep_conv: 0.8, p_keep_hidden: 0.5})\n",
        "        if epoch % 10 == 0:\n",
        "            accuracy= np.mean(np.argmax(Y_test, axis=1) == \n",
        "                              sess.run(predict_op, feed_dict={X: X_test, p_keep_conv: 1.0, p_keep_hidden: 1.0}))\n",
        "                              \n",
        "            print(\"epoch : {} and accuracy : {}\" .format(epoch, accuracy))\n",
        "            \n",
        "            print(\"testing labels for test data\")\n",
        "            print(sess.run(predict_op, feed_dict={X: X_test,p_keep_conv: 1.0, p_keep_hidden: 1.0}))\n",
        "            \n",
        "    print(\"Final accuracy : {}\" .format(np.mean(np.argmax(Y_test, axis=1) ==\n",
        "                         sess.run(predict_op, feed_dict={X: X_test, p_keep_conv: 1.0, p_keep_hidden: 1.0}))))\n",
        "\n"
      ],
      "execution_count": 19,
      "outputs": [
        {
          "output_type": "stream",
          "text": [
            "epoch : 0 and accuracy : 0.2893\n",
            "testing labels for test data\n",
            "[5 8 9 ... 5 1 7]\n",
            "epoch : 10 and accuracy : 0.589\n",
            "testing labels for test data\n",
            "[3 8 8 ... 5 2 7]\n",
            "epoch : 20 and accuracy : 0.6267\n",
            "testing labels for test data\n",
            "[3 8 8 ... 5 1 7]\n",
            "epoch : 30 and accuracy : 0.6471\n",
            "testing labels for test data\n",
            "[3 8 8 ... 5 1 7]\n",
            "epoch : 40 and accuracy : 0.638\n",
            "testing labels for test data\n",
            "[3 8 8 ... 5 1 7]\n",
            "Final accuracy : 0.6148\n"
          ],
          "name": "stdout"
        }
      ]
    }
  ]
}